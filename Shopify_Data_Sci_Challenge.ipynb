{
 "cells": [
  {
   "cell_type": "code",
   "execution_count": 1,
   "metadata": {},
   "outputs": [],
   "source": [
    "import pandas as pd\n",
    "import numpy as np\n",
    "import matplotlib.pyplot as plt\n",
    "import seaborn as sns\n",
    "%matplotlib inline"
   ]
  },
  {
   "cell_type": "markdown",
   "metadata": {},
   "source": [
    "# Question 1\n",
    "\n",
    "Given some sample data, write a program to answer the following: click here to access the required data set\n",
    "\n",
    "On Shopify, we have exactly 100 sneaker shops, and each of these shops sells only one model of shoe. We want to do some analysis of the average order value (AOV). When we look at orders data over a 30 day window, we naively calculate an AOV of $3145.13. Given that we know these shops are selling sneakers, a relatively affordable item, something seems wrong with our analysis. "
   ]
  },
  {
   "cell_type": "markdown",
   "metadata": {},
   "source": [
    "### a. \n",
    "\n",
    "Think about what could be going wrong with our calculation. Think about a better way to evaluate this data."
   ]
  },
  {
   "cell_type": "code",
   "execution_count": 59,
   "metadata": {},
   "outputs": [],
   "source": [
    "data = pd.read_excel(io='2019 Winter Data Science Intern Challenge Data Set.xlsx')"
   ]
  },
  {
   "cell_type": "code",
   "execution_count": 60,
   "metadata": {},
   "outputs": [
    {
     "data": {
      "text/plain": [
       "count      5000.000000\n",
       "mean       3145.128000\n",
       "std       41282.539349\n",
       "min          90.000000\n",
       "25%         163.000000\n",
       "50%         284.000000\n",
       "75%         390.000000\n",
       "max      704000.000000\n",
       "Name: order_amount, dtype: float64"
      ]
     },
     "execution_count": 60,
     "metadata": {},
     "output_type": "execute_result"
    }
   ],
   "source": [
    "data['order_amount'].describe()"
   ]
  },
  {
   "cell_type": "markdown",
   "metadata": {},
   "source": [
    "## Statistical Analysis\n",
    "\n",
    "\n",
    "After running the describe function, the statistics show:\n",
    "\n",
    "<LI>A mean cost of ~3145.13</LI>\n",
    "<LI>A standard deviation of ~41282.54</LI>\n",
    "<LI>A max value of 704000</LI>\n",
    "\n",
    "From the above metrics, we have a doubt that the Average Order Value (AOV) is skewed because of the unusual high amount values such as the maximum value of 704000.  For this reason we decide to plot the distribution of the order amounts to get a better view of these values and to understand why the mean is skewed, making it misleading.  The high standard deviation confirms our doubts.  There must be outliars pushing the AOV to be high.\n",
    "\n",
    "### Plotting Order Amount Distribution"
   ]
  },
  {
   "cell_type": "code",
   "execution_count": 55,
   "metadata": {},
   "outputs": [
    {
     "data": {
      "text/plain": [
       "array([[<AxesSubplot:title={'center':'order_amount'}>]], dtype=object)"
      ]
     },
     "execution_count": 55,
     "metadata": {},
     "output_type": "execute_result"
    },
    {
     "data": {
      "image/png": "[encoded data removed]",
      "text/plain": [
       "<Figure size 1000x800 with 1 Axes>"
      ]
     },
     "metadata": {
      "needs_background": "light"
     },
     "output_type": "display_data"
    }
   ],
   "source": [
    "data.hist(column='order_amount',grid=False, figsize=(10,8), zorder=3, rwidth=0.4)"
   ]
  },
  {
   "cell_type": "markdown",
   "metadata": {},
   "source": [
    "## Analysis Conclusion\n",
    "\n",
    "The plot confirms the doubts and shows that most values are below 100,000 and very few orders had values around 100,000 and 700,000.  The values above 100,000 must be bulk orders and therefore constitute outliars because they so not reflect a regular behavior.  We therefore count the number of orders above 100,000 and below that value and we see that only 19 orders have a valuw greater than 100,000, of which 17 are around 700,000,  which must be driving the average up while 4981 orders are below that value.\n",
    "\n",
    "We therefore cannot use the AOV as an evaluation method for the dataset"
   ]
  },
  {
   "cell_type": "code",
   "execution_count": 58,
   "metadata": {},
   "outputs": [
    {
     "data": {
      "text/html": [
       "<div>\n",
       "<style scoped>\n",
       "    .dataframe tbody tr th:only-of-type {\n",
       "        vertical-align: middle;\n",
       "    }\n",
       "\n",
       "    .dataframe tbody tr th {\n",
       "        vertical-align: top;\n",
       "    }\n",
       "\n",
       "    .dataframe thead th {\n",
       "        text-align: right;\n",
       "    }\n",
       "</style>\n",
       "<table border=\"1\" class=\"dataframe\">\n",
       "  <thead>\n",
       "    <tr style=\"text-align: right;\">\n",
       "      <th></th>\n",
       "      <th>order_amount</th>\n",
       "      <th>num_data_points</th>\n",
       "    </tr>\n",
       "  </thead>\n",
       "  <tbody>\n",
       "    <tr>\n",
       "      <th>257</th>\n",
       "      <td>704000</td>\n",
       "      <td>17</td>\n",
       "    </tr>\n",
       "    <tr>\n",
       "      <th>256</th>\n",
       "      <td>154350</td>\n",
       "      <td>1</td>\n",
       "    </tr>\n",
       "    <tr>\n",
       "      <th>255</th>\n",
       "      <td>102900</td>\n",
       "      <td>1</td>\n",
       "    </tr>\n",
       "    <tr>\n",
       "      <th>254</th>\n",
       "      <td>77175</td>\n",
       "      <td>9</td>\n",
       "    </tr>\n",
       "    <tr>\n",
       "      <th>253</th>\n",
       "      <td>51450</td>\n",
       "      <td>16</td>\n",
       "    </tr>\n",
       "  </tbody>\n",
       "</table>\n",
       "</div>"
      ],
      "text/plain": [
       "     order_amount  num_data_points\n",
       "257        704000               17\n",
       "256        154350                1\n",
       "255        102900                1\n",
       "254         77175                9\n",
       "253         51450               16"
      ]
     },
     "execution_count": 58,
     "metadata": {},
     "output_type": "execute_result"
    }
   ],
   "source": [
    "data_grps = data.groupby(['order_amount']).size()\n",
    "amnt_grps = data_grps.reset_index(name='num_data_points').sort_values(by='order_amount', ascending = False)\n",
    "amnt_grps.head(5)"
   ]
  },
  {
   "cell_type": "code",
   "execution_count": 51,
   "metadata": {},
   "outputs": [
    {
     "data": {
      "text/plain": [
       "order_id          19\n",
       "shop_id           19\n",
       "user_id           19\n",
       "order_amount      19\n",
       "total_items       19\n",
       "payment_method    19\n",
       "created_at        19\n",
       "dtype: int64"
      ]
     },
     "execution_count": 51,
     "metadata": {},
     "output_type": "execute_result"
    }
   ],
   "source": [
    "data['order_id'].unique()\n",
    "outliars = data[data['order_amount'] > 100000]\n",
    "outliars_count = outliars.count()\n",
    "outliars_count"
   ]
  },
  {
   "cell_type": "code",
   "execution_count": 52,
   "metadata": {},
   "outputs": [
    {
     "data": {
      "text/plain": [
       "order_id          4981\n",
       "shop_id           4981\n",
       "user_id           4981\n",
       "order_amount      4981\n",
       "total_items       4981\n",
       "payment_method    4981\n",
       "created_at        4981\n",
       "dtype: int64"
      ]
     },
     "execution_count": 52,
     "metadata": {},
     "output_type": "execute_result"
    }
   ],
   "source": [
    "other_values = data[data['order_amount'] < 100000]\n",
    "others_count = other_values.count()\n",
    "others_count"
   ]
  },
  {
   "cell_type": "markdown",
   "metadata": {},
   "source": [
    "## b.\n",
    "What metric would you report for this dataset?\n",
    "\n",
    "To answer this question, let's take a look at the median of the order amount.  We find the median value to be 284.  This seems to be a better representation than the average.  The median is not affected by the outliars as the average was affected."
   ]
  },
  {
   "cell_type": "markdown",
   "metadata": {},
   "source": [
    "## c. \n",
    "What is its value?"
   ]
  },
  {
   "cell_type": "code",
   "execution_count": 63,
   "metadata": {},
   "outputs": [
    {
     "name": "stdout",
     "output_type": "stream",
     "text": [
      "The median value of the order amount is:  284.0\n"
     ]
    }
   ],
   "source": [
    "import statistics\n",
    "median_order_amount = statistics.median(data['order_amount'])\n",
    "print(\"The median value of the order amount is: \", median_order_amount)"
   ]
  },
  {
   "cell_type": "markdown",
   "metadata": {},
   "source": [
    "# Question 2"
   ]
  },
  {
   "cell_type": "markdown",
   "metadata": {},
   "source": [
    "For this question you’ll need to use SQL. Follow this link to access the data set required for the challenge. Please use queries to answer the following questions. Paste your queries along with your final numerical answers below."
   ]
  },
  {
   "cell_type": "markdown",
   "metadata": {},
   "source": [
    "## a.\n",
    "\n",
    "How many orders were shipped by Speedy Express in total?"
   ]
  },
  {
   "cell_type": "markdown",
   "metadata": {},
   "source": [
    "SELECT count(*) FROM Orders o <BR>\n",
    "INNER JOIN Shippers s ON o.ShipperID = s.ShipperID <BR>\n",
    "WHERE s.ShipperName LIKE 'Speedy Express';\n",
    "\n",
    "The result is : 54"
   ]
  },
  {
   "cell_type": "markdown",
   "metadata": {},
   "source": [
    "## b.\n",
    "\n",
    "What is the last name of the employee with the most orders?"
   ]
  },
  {
   "cell_type": "markdown",
   "metadata": {},
   "source": [
    "SELECT sub.LastName, MAX(sub.cnt) FROM <BR>\n",
    "(SELECT e.LastName,count(*) as cnt <BR>\n",
    "FROM Orders o <BR>\n",
    "INNER JOIN Employees e ON o.EmployeeID = e.EmployeeID <BR>\n",
    "GROUP BY o.EmployeeID) AS sub; <BR>\n",
    "    \n",
    "The Employee last name is : Peacock with 40 orders"
   ]
  },
  {
   "cell_type": "markdown",
   "metadata": {},
   "source": [
    "## c.\n",
    "\n",
    "What product was ordered the most by customers in Germany?"
   ]
  },
  {
   "cell_type": "markdown",
   "metadata": {},
   "source": [
    "SELECT MAX(product_quantity),product_name <BR>\n",
    "FROM( <BR>\n",
    "SELECT o.CustomerID, o.OrderID, c.Country, od.ProductID, p.ProductName as product_name, SUM(od.Quantity) as product_quantity <BR>\n",
    "FROM Customers c <BR>\n",
    "JOIN Orders o on o.CustomerID = c.CustomerID <BR>\n",
    "JOIN OrderDetails od on o.OrderID = od.OrderID <BR>\n",
    "JOIN Products p on od.ProductID = p.ProductID <BR>\n",
    "where c.Country = 'Germany' <BR>\n",
    "GROUP BY od.ProductID <BR>\n",
    ") as A; <BR>\n",
    "    \n",
    "    \n",
    "The most bought product is : Boston Crab Meat with 160 ordered items."
   ]
  },
  {
   "cell_type": "code",
   "execution_count": null,
   "metadata": {},
   "outputs": [],
   "source": []
  }
 ],
 "metadata": {
  "kernelspec": {
   "display_name": "Python 3",
   "language": "python",
   "name": "python3"
  },
  "language_info": {
   "codemirror_mode": {
    "name": "ipython",
    "version": 3
   },
   "file_extension": ".py",
   "mimetype": "text/x-python",
   "name": "python",
   "nbconvert_exporter": "python",
   "pygments_lexer": "ipython3",
   "version": "3.8.5"
  }
 },
 "nbformat": 4,
 "nbformat_minor": 4
}
